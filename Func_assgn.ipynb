{
 "cells": [
  {
   "cell_type": "raw",
   "id": "843b42b3-851f-4aa1-8d61-8d31aab43723",
   "metadata": {},
   "source": [
    "1)def keyword is used to create a functions in python.\n",
    "\n",
    "\n",
    "    \n"
   ]
  },
  {
   "cell_type": "code",
   "execution_count": 9,
   "id": "73c405ca-f704-4364-972d-4ac3d4080008",
   "metadata": {},
   "outputs": [
    {
     "name": "stdout",
     "output_type": "stream",
     "text": [
      "[1, 3, 5, 7, 9, 11, 13, 15, 17, 19, 21, 23, 25]\n"
     ]
    }
   ],
   "source": [
    "def find_odd_numbers():\n",
    "    odd_numbers = [num for num in range(1, 26) if num % 2 != 0]\n",
    "    return odd_numbers\n",
    "\n",
    "\n",
    "result = find_odd_numbers()\n",
    "print(result)\n"
   ]
  },
  {
   "cell_type": "raw",
   "id": "0fa43894-8969-4abb-b74d-d8c592c10147",
   "metadata": {},
   "source": [
    "2)'*args' syntax in function allows to accept any number of positional arguements.these arguments are then passed to the function as tuple.\n",
    "\n",
    "'*kwargs' allows to accept any number of keyword arguments.These arguments are passed to the function as a dictionary"
   ]
  },
  {
   "cell_type": "raw",
   "id": "4bc00940-5f77-486e-ac8f-2d4f9142d90f",
   "metadata": {},
   "source": [
    "3)Iterator in python is an object that represent a stream of data and can be iterated(looped) over.It implements two methods:'__iter__()' and '__next__()'.\n",
    "The __iter__() method is used to initialize an iterator object. It should return the iterator object itself.\n",
    "The __next__() method is called to get the next element in the sequence. It should raise the StopIteration exception when there are no more items to return."
   ]
  },
  {
   "cell_type": "code",
   "execution_count": 10,
   "id": "3c017d73-06c2-40a0-96e0-8c66ba4432a7",
   "metadata": {},
   "outputs": [
    {
     "name": "stdout",
     "output_type": "stream",
     "text": [
      "2\n",
      "4\n",
      "6\n",
      "8\n",
      "10\n"
     ]
    }
   ],
   "source": [
    "class CustomIterator:\n",
    "    def __init__(self, data):\n",
    "        self.data = data\n",
    "        self.index = 0\n",
    "\n",
    "    def __iter__(self):\n",
    "        return self\n",
    "\n",
    "    def __next__(self):\n",
    "        if self.index < len(self.data):\n",
    "            result = self.data[self.index]\n",
    "            self.index += 1\n",
    "            return result\n",
    "        else:\n",
    "            raise StopIteration\n",
    "\n",
    "# Create an iterator object\n",
    "my_iterator = CustomIterator([2, 4, 6, 8, 10, 12, 14, 16, 18, 20])\n",
    "\n",
    "# Use the iterator to print the first five elements\n",
    "for _ in range(5):\n",
    "    print(next(my_iterator))\n"
   ]
  },
  {
   "cell_type": "raw",
   "id": "8e6986f2-902a-44be-bf47-71fe5c5bef4f",
   "metadata": {},
   "source": [
    "4)A generator function in python is atype of function that allows us to iterate over a sequence of data without creating the enire memory sequence at once.\n",
    "Generator functions use the yield keyword to produce a series of values one at a time. Unlike regular functions that use return to provide a value and exit, a generator function can yield multiple values and retains its state between calls.\n",
    "The yield keyword is used to produce a value from the generator function and temporarily suspends its execution. The state of the function is saved, allowing it to resume execution from that point the next time it's called."
   ]
  },
  {
   "cell_type": "code",
   "execution_count": 11,
   "id": "ddff2c7d-077f-4b79-a29f-b93e48080c7d",
   "metadata": {},
   "outputs": [
    {
     "name": "stdout",
     "output_type": "stream",
     "text": [
      "0\n",
      "1\n",
      "4\n",
      "9\n",
      "16\n"
     ]
    }
   ],
   "source": [
    "def generate(n):\n",
    "    for i in range(n):\n",
    "        yield i**2\n",
    "        \n",
    "        \n",
    "squares=generate(5)\n",
    "for i in squares:\n",
    "    print(i)"
   ]
  },
  {
   "cell_type": "code",
   "execution_count": 13,
   "id": "02f3ad45-cdbd-479c-953a-0cb49ae83655",
   "metadata": {},
   "outputs": [
    {
     "name": "stdout",
     "output_type": "stream",
     "text": [
      "2\n",
      "3\n",
      "5\n",
      "7\n",
      "11\n",
      "13\n",
      "17\n",
      "19\n",
      "23\n",
      "29\n",
      "31\n",
      "37\n",
      "41\n",
      "43\n",
      "47\n",
      "53\n",
      "59\n",
      "61\n",
      "67\n",
      "71\n"
     ]
    }
   ],
   "source": [
    "###5)\n",
    "def generate_primes():\n",
    "    primes = []\n",
    "    number = 2\n",
    "\n",
    "    while True:\n",
    "        is_prime = all(number % prime != 0 for prime in primes)\n",
    "        if is_prime and number < 1000:\n",
    "            primes.append(number)\n",
    "            yield number\n",
    "        elif number >= 1000:\n",
    "            break\n",
    "        number += 1\n",
    "\n",
    "# Using the generator function to print the first 20 prime numbers\n",
    "primes_generator = generate_primes()\n",
    "\n",
    "for _ in range(20):\n",
    "    print(next(primes_generator))\n"
   ]
  },
  {
   "cell_type": "code",
   "execution_count": 16,
   "id": "b41a337d-ad4c-4a06-b087-9f201b441543",
   "metadata": {},
   "outputs": [
    {
     "name": "stdin",
     "output_type": "stream",
     "text": [
      "How many terms?  10\n"
     ]
    },
    {
     "name": "stdout",
     "output_type": "stream",
     "text": [
      "Fibonacci sequence:\n",
      "0\n",
      "1\n",
      "1\n",
      "2\n",
      "3\n",
      "5\n",
      "8\n",
      "13\n",
      "21\n",
      "34\n"
     ]
    }
   ],
   "source": [
    "nterms = int(input(\"How many terms? \"))\n",
    "\n",
    "# first two terms\n",
    "n1, n2 = 0, 1\n",
    "count = 0\n",
    "\n",
    "# check if the number of terms is valid\n",
    "if nterms <= 0:\n",
    "   print(\"Please enter a positive integer\")\n",
    "# if there is only one term, return n1\n",
    "elif nterms == 1:\n",
    "   print(\"Fibonacci sequence upto\",nterms,\":\")\n",
    "   print(n1)\n",
    "# generate fibonacci sequence\n",
    "else:\n",
    "   print(\"Fibonacci sequence:\")\n",
    "   while count < nterms:\n",
    "       print(n1)\n",
    "       nth = n1 + n2\n",
    "       # update values\n",
    "       n1 = n2\n",
    "       n2 = nth\n",
    "       count += 1"
   ]
  },
  {
   "cell_type": "code",
   "execution_count": 17,
   "id": "c3a7366b-6dd7-4dab-90f5-edd5350f2a94",
   "metadata": {},
   "outputs": [
    {
     "name": "stdout",
     "output_type": "stream",
     "text": [
      "['p', 'w', 's', 'k', 'i', 'l', 'l', 's']\n"
     ]
    }
   ],
   "source": [
    "lst=[]\n",
    "str='pwskills'\n",
    "for i in str:\n",
    "    lst.append(i)\n",
    "print(lst)"
   ]
  },
  {
   "cell_type": "code",
   "execution_count": 22,
   "id": "37d12474-c86b-4a99-afd4-849617a721a3",
   "metadata": {},
   "outputs": [
    {
     "name": "stdin",
     "output_type": "stream",
     "text": [
      "enter the number: 11\n"
     ]
    },
    {
     "name": "stdout",
     "output_type": "stream",
     "text": [
      "11 is a Palindrome\n"
     ]
    }
   ],
   "source": [
    "num=int(input('enter the number:'))\n",
    "# calculate reverse of number\n",
    "reverse = 0\n",
    "number = num\n",
    "while(num != 0):\n",
    "   remainder = num % 10\n",
    "   reverse = reverse * 10 + remainder\n",
    "   num = int(num / 10)\n",
    "\n",
    "# compare reverse to original number\n",
    "if(number == reverse):\n",
    "   print(number,'is a Palindrome')\n",
    "else:\n",
    "   print(number,'is not a Palindrome')"
   ]
  },
  {
   "cell_type": "code",
   "execution_count": 23,
   "id": "921461de-8341-489b-92de-5b1fbf53fa08",
   "metadata": {},
   "outputs": [
    {
     "name": "stdout",
     "output_type": "stream",
     "text": [
      "[1, 3, 5, 7, 9, 11, 13, 15, 17, 19, 21, 23, 25, 27, 29, 31, 33, 35, 37, 39, 41, 43, 45, 47, 49, 51, 53, 55, 57, 59, 61, 63, 65, 67, 69, 71, 73, 75, 77, 79, 81, 83, 85, 87, 89, 91, 93, 95, 97, 99]\n"
     ]
    }
   ],
   "source": [
    "lst=[]\n",
    "for i in range(101):\n",
    "    if(i%2)!=0:\n",
    "        lst.append(i)\n",
    "        \n",
    "print(lst)"
   ]
  },
  {
   "cell_type": "code",
   "execution_count": null,
   "id": "093fc5aa-df2e-4f68-831b-de9365cc4f51",
   "metadata": {},
   "outputs": [],
   "source": []
  }
 ],
 "metadata": {
  "kernelspec": {
   "display_name": "Python 3 (ipykernel)",
   "language": "python",
   "name": "python3"
  },
  "language_info": {
   "codemirror_mode": {
    "name": "ipython",
    "version": 3
   },
   "file_extension": ".py",
   "mimetype": "text/x-python",
   "name": "python",
   "nbconvert_exporter": "python",
   "pygments_lexer": "ipython3",
   "version": "3.10.8"
  }
 },
 "nbformat": 4,
 "nbformat_minor": 5
}
